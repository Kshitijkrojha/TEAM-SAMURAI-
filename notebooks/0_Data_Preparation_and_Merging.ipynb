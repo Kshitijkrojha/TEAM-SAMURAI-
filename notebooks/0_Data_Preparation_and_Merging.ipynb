{
 "cells": [
  {
   "cell_type": "code",
   "execution_count": 1,
   "id": "fb2b83e9",
   "metadata": {},
   "outputs": [],
   "source": [
    "# Cell 1: Imports and Configuration\n",
    "import pandas as pd\n",
    "import numpy as np\n",
    "import os\n",
    "\n",
    "# Define file paths for clarity\n",
    "# This assumes your notebook is in a 'notebooks' folder, parallel to a 'data' folder\n",
    "DATA_DIR = '../data'\n",
    "OUTPUT_DIR = '../output/processed_data'\n",
    "\n",
    "# Create the output directory if it doesn't exist\n",
    "os.makedirs(OUTPUT_DIR, exist_ok=True)"
   ]
  },
  {
   "cell_type": "markdown",
   "id": "8ef006e9",
   "metadata": {},
   "source": [
    "# Cell 2: Markdown\n",
    "\"\"\"\n",
    "# Step 0: Data Preparation and Merging\n",
    "\n",
    "This notebook serves as the foundational step for the entire project. Its purpose is to:\n",
    "1. Load the five raw datasets provided by United Airlines.\n",
    "2. Perform necessary cleaning and aggregations to bring all data to a consistent, flight-level view.\n",
    "3. Handle specific data inconsistencies found during initial exploration (e.g., column names).\n",
    "4. Merge all sources into a single, master DataFrame.\n",
    "5. Save the final, clean dataset to a new CSV file.\n",
    "\n",
    "All subsequent analytical notebooks will begin by loading the clean data file produced by this notebook. This approach ensures consistency and avoids code repetition.\n",
    "\"\"\""
   ]
  },
  {
   "cell_type": "code",
   "execution_count": 2,
   "id": "00d84ae7",
   "metadata": {},
   "outputs": [
    {
     "name": "stdout",
     "output_type": "stream",
     "text": [
      "--- Loading all raw data sources ---\n",
      "All CSV files loaded successfully.\n"
     ]
    }
   ],
   "source": [
    "# Cell 3: Load Raw Data\n",
    "print(\"--- Loading all raw data sources ---\")\n",
    "try:\n",
    "    flight_df = pd.read_csv(os.path.join(DATA_DIR, 'Flight Level Data.csv'))\n",
    "    # Your PNR file has a '+' in the name, so we use that exact name\n",
    "    pnr_flight_df = pd.read_csv(os.path.join(DATA_DIR, 'PNR+Flight+Level+Data.csv'))\n",
    "    pnr_remarks_df = pd.read_csv(os.path.join(DATA_DIR, 'PNR Remark Level Data.csv'))\n",
    "    # Your Bag file has a '+' in the name\n",
    "    bag_df = pd.read_csv(os.path.join(DATA_DIR, 'Bag+Level+Data.csv'))\n",
    "    airports_df = pd.read_csv(os.path.join(DATA_DIR, 'Airports Data.csv'))\n",
    "    print(\"All CSV files loaded successfully.\")\n",
    "except FileNotFoundError as e:\n",
    "    print(f\"ERROR: Could not find data file - {e}.\")\n",
    "    flight_df = None"
   ]
  },
  {
   "cell_type": "markdown",
   "id": "a98c29d7",
   "metadata": {},
   "source": [
    "# Cell 4: Markdown\n",
    "\"\"\"\n",
    "### Data Aggregation\n",
    "To create a flight-level view, we need to aggregate the PNR, Remarks, and Bag data.\n",
    "\n",
    "- **PNR Data:** We will sum passenger counts and related flags for each unique flight.\n",
    "- **Remarks Data:** We will count the number of special service requests (SSRs) for each flight.\n",
    "- **Bag Data:** We will count the number of 'Checked' and 'Transfer' bags for each flight.\n",
    "\"\"\""
   ]
  },
  {
   "cell_type": "code",
   "execution_count": 3,
   "id": "558f130f",
   "metadata": {},
   "outputs": [
    {
     "name": "stdout",
     "output_type": "stream",
     "text": [
      "Aggregating PNR data...\n",
      "Aggregating Remarks (SSR) data...\n",
      "Aggregating Bag data...\n"
     ]
    }
   ],
   "source": [
    "# Cell 4: Data Aggregation and Cleaning\n",
    "if flight_df is not None:\n",
    "    flight_key = [\n",
    "        'scheduled_departure_date_local', 'company_id', 'flight_number',\n",
    "        'scheduled_departure_station_code', 'scheduled_arrival_station_code'\n",
    "    ]\n",
    "\n",
    "    print(\"Aggregating PNR data...\")\n",
    "    # Your file uses 'basic_economy_ind', we will rename it to be consistent\n",
    "    if 'basic_economy_ind' in pnr_flight_df.columns:\n",
    "        pnr_flight_df.rename(columns={'basic_economy_ind': 'basic_economy_pax'}, inplace=True)\n",
    "    pnr_agg = pnr_flight_df.groupby(flight_key).agg(\n",
    "        total_pax=('total_pax', 'sum'),\n",
    "        lap_child_count=('lap_child_count', 'sum'),\n",
    "        is_child_count=('is_child', lambda x: (x == 'Y').sum()),\n",
    "        is_stroller_user_count=('is_stroller_user', lambda x: (x == 'Y').sum()),\n",
    "        basic_economy_pax=('basic_economy_pax', 'sum')\n",
    "    ).reset_index()\n",
    "\n",
    "    print(\"Aggregating Remarks (SSR) data...\")\n",
    "    pnr_key_map = pnr_flight_df[['record_locator'] + flight_key].drop_duplicates()\n",
    "    remarks_with_flight_key = pd.merge(\n",
    "        pnr_remarks_df.drop(columns=['flight_number'], errors='ignore'),\n",
    "        pnr_key_map, on='record_locator', how='left'\n",
    "    )\n",
    "    ssr_agg = remarks_with_flight_key.groupby(flight_key).size().reset_index(name='ssr_count')\n",
    "\n",
    "    print(\"Aggregating Bag data...\")\n",
    "    bag_agg = bag_df.pivot_table(\n",
    "        index=flight_key, columns='bag_type', values='bag_tag_unique_number',\n",
    "        aggfunc='count', fill_value=0\n",
    "    ).reset_index()\n",
    "    bag_agg.columns.name = None\n",
    "    # Your file uses 'Origin', we will rename it to the standard 'Checked'\n",
    "    if 'Origin' in bag_agg.columns:\n",
    "        bag_agg.rename(columns={'Origin': 'Checked'}, inplace=True)\n",
    "    if 'Transfer' not in bag_agg.columns:\n",
    "        bag_agg['Transfer'] = 0"
   ]
  },
  {
   "cell_type": "markdown",
   "id": "5c3c9d65",
   "metadata": {},
   "source": [
    "# Cell 4: Markdown\n",
    "\"\"\"\n",
    "### Data Aggregation\n",
    "To create a flight-level view, we need to aggregate the PNR, Remarks, and Bag data.\n",
    "\n",
    "- **PNR Data:** We will sum passenger counts and related flags for each unique flight.\n",
    "- **Remarks Data:** We will count the number of special service requests (SSRs) for each flight.\n",
    "- **Bag Data:** We will count the number of 'Checked' and 'Transfer' bags for each flight.\n",
    "\"\"\""
   ]
  },
  {
   "cell_type": "code",
   "execution_count": 4,
   "id": "62bb2908",
   "metadata": {},
   "outputs": [
    {
     "name": "stdout",
     "output_type": "stream",
     "text": [
      "\n",
      "--- Merging all data sources into a single master DataFrame ---\n"
     ]
    }
   ],
   "source": [
    "# Cell 5: Merge and Create Master DataFrame\n",
    "print(\"\\n--- Merging all data sources into a single master DataFrame ---\")\n",
    "master_df = pd.merge(flight_df, pnr_agg, on=flight_key, how='left')\n",
    "master_df = pd.merge(master_df, ssr_agg, on=flight_key, how='left')\n",
    "master_df = pd.merge(master_df, bag_agg, on=flight_key, how='left')\n",
    "\n",
    "# Fill NaNs in count columns with 0\n",
    "count_cols = [\n",
    "    'total_pax', 'lap_child_count', 'is_child_count', 'basic_economy_pax',\n",
    "    'is_stroller_user_count', 'ssr_count', 'Checked', 'Transfer'\n",
    "]\n",
    "for col in count_cols:\n",
    "    if col in master_df.columns:\n",
    "        master_df[col] = master_df[col].fillna(0)"
   ]
  },
  {
   "cell_type": "code",
   "execution_count": 5,
   "id": "d63b3081",
   "metadata": {},
   "outputs": [
    {
     "name": "stdout",
     "output_type": "stream",
     "text": [
      "\n",
      "--- Creating all foundational features needed for subsequent analyses ---\n",
      "All foundational features have been created successfully.\n"
     ]
    }
   ],
   "source": [
    "# Cell 6: Foundational Feature Engineering\n",
    "print(\"\\n--- Creating all foundational features needed for subsequent analyses ---\")\n",
    "\n",
    "# Date and Delay Features\n",
    "master_df['actual_departure_datetime_local'] = pd.to_datetime(master_df['actual_departure_datetime_local'], errors='coerce')\n",
    "master_df['scheduled_departure_datetime_local'] = pd.to_datetime(master_df['scheduled_departure_datetime_local'], errors='coerce')\n",
    "master_df['departure_delay'] = (master_df['actual_departure_datetime_local'] - master_df['scheduled_departure_datetime_local']).dt.total_seconds() / 60\n",
    "\n",
    "# Ground Time Feature\n",
    "master_df['ground_time_deficit'] = master_df['scheduled_ground_time_minutes'] - master_df['minimum_turn_minutes']\n",
    "\n",
    "# Passenger-based Features\n",
    "master_df['load_factor'] = master_df['total_pax'] / master_df['total_seats'].replace(0, pd.NA)\n",
    "master_df['ssr_per_pax'] = master_df['ssr_count'] / master_df['total_pax'].replace(0, pd.NA)\n",
    "master_df['child_ratio'] = (master_df['lap_child_count'] + master_df['is_child_count']) / master_df['total_pax'].replace(0, pd.NA)\n",
    "master_df['basic_economy_ratio'] = master_df['basic_economy_pax'] / master_df['total_pax'].replace(0, pd.NA)\n",
    "\n",
    "# Baggage-based Features\n",
    "master_df['total_bags'] = master_df['Checked'] + master_df['Transfer']\n",
    "master_df['bags_per_pax'] = master_df['total_bags'] / master_df['total_pax'].replace(0, pd.NA)\n",
    "\n",
    "# Flight Profile Feature\n",
    "airports_df.rename(columns={'airport_iata_code': 'scheduled_arrival_station_code'}, inplace=True)\n",
    "master_df = pd.merge(master_df, airports_df[['scheduled_arrival_station_code', 'iso_country_code']], on='scheduled_arrival_station_code', how='left')\n",
    "master_df['is_international'] = (master_df['iso_country_code'] != 'US').astype(int)\n",
    "\n",
    "# Final cleanup\n",
    "master_df.fillna(0, inplace=True)\n",
    "print(\"All foundational features have been created successfully.\")"
   ]
  },
  {
   "cell_type": "code",
   "execution_count": 6,
   "id": "27478508",
   "metadata": {},
   "outputs": [
    {
     "name": "stdout",
     "output_type": "stream",
     "text": [
      "\n",
      "✅ Analysis-ready data saved to: ../output/processed_data\\analysis_ready_data.csv\n",
      "All other notebooks should now load this single file.\n"
     ]
    }
   ],
   "source": [
    "# Cell 7: Save the Final Analysis-Ready Data\n",
    "output_path = os.path.join(OUTPUT_DIR, 'analysis_ready_data.csv')\n",
    "master_df.to_csv(output_path, index=False)\n",
    "\n",
    "print(f\"\\n✅ Analysis-ready data saved to: {output_path}\")\n",
    "print(\"All other notebooks should now load this single file.\")"
   ]
  }
 ],
 "metadata": {
  "kernelspec": {
   "display_name": ".conda",
   "language": "python",
   "name": "python3"
  },
  "language_info": {
   "codemirror_mode": {
    "name": "ipython",
    "version": 3
   },
   "file_extension": ".py",
   "mimetype": "text/x-python",
   "name": "python",
   "nbconvert_exporter": "python",
   "pygments_lexer": "ipython3",
   "version": "3.11.13"
  }
 },
 "nbformat": 4,
 "nbformat_minor": 5
}
